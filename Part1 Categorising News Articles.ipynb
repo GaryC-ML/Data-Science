{
 "cells": [
  {
   "cell_type": "markdown",
   "metadata": {},
   "source": [
    "# Part 1: Categorising News Articles using Machine Learning"
   ]
  },
  {
   "cell_type": "markdown",
   "metadata": {},
   "source": [
    "### Abstract"
   ]
  },
  {
   "cell_type": "markdown",
   "metadata": {},
   "source": [
    "This is part 1 of a series of projects to help me understand the real-life applications of Machine Learning. I will be trying to answer the question, \"How do startup fintech companies provide sentiment based trading signals to investment professionals?\".\n"
   ]
  },
  {
   "cell_type": "markdown",
   "metadata": {},
   "source": [
    "### Aim"
   ]
  },
  {
   "cell_type": "markdown",
   "metadata": {},
   "source": [
    "Having worked within investment management for many years, I have become interested in understanding the real-life applications of Machine Learning, specifically Natural Language Processing (NLP), within the finance industry. There is a huge amount of information that a Chartered Financial Analyst needs to navigate through. Traditional methods of analysis needs to be augmented with state-of-the-art data science techniques. \n",
    "\n",
    "Some of the really exciting potential applications include:\n",
    "-  Trading signals derived from Sentiment Analysis\n",
    "-  Classification and clustering of financial related documents.\n",
    "-  Auto summarisation of text documents including transcipts of company conference calls. \n",
    "-  Processing company earnings reports in the quickest time possible in order to gain an information advantage.\n",
    "\n",
    "My plan is to conduct a series of small projects, narrow in scope, that will allow me to keep within my abilities. From my initial research, I become inspired by the \"institutional quality data feeds\" built into the Quantopian.com pipeline. For example: \n",
    "-  StockTwits Trade Mood from PsychSignal\n",
    "-  Twitter Trader Mood from PsychSignal\n",
    "-  Sentdex Sentiment Analysis\n",
    "\n",
    "(I have not developed any trading algorithms on Quantopian yet because my focus is on becoming a Data Scientist.)\n",
    "\n",
    "**How do startup companies provide sentiment based trading signals to investment professionals?**\n",
    "\n",
    "To tackle this question, I will conduct several loosely related project workstreams: \n",
    "-  News classification - filtering general news articles to those related to 'Business'\n",
    "-  Sentiment Analysis (postive or negative) - movie reviews and Twitter feeds. \n",
    "-  Applying Daily News to to predict Stock Market returns. \n",
    "\n",
    "These building blocks will be powerful components that I can adapt as a framework for use in future work related to Sentiment Analysis and NLP. \n",
    "\n",
    "One burning question you might want me to answer immediately is whether I have found any Alpha? Yes. To a certain extent. At this stage of my analysis there is not enough Alpha on a stand-alone basis for a complete trading model. But I am very confident that with more work, there is enough Alpha there to be extracted and used as a part of an overall strategy, namely the Sentiment-based component. \n",
    "\n",
    "I am constantly learning and there is always room for improvements. \n",
    "\n",
    "Please note that I am only able to use non-proprietary, publicly available datasets, which will obviously lessen the information advantage. "
   ]
  },
  {
   "cell_type": "markdown",
   "metadata": {},
   "source": [
    "## 1. News Classification"
   ]
  },
  {
   "cell_type": "markdown",
   "metadata": {},
   "source": [
    "### 1.1 Executive Summary"
   ]
  },
  {
   "cell_type": "markdown",
   "metadata": {},
   "source": [
    "The machine learning model is able to predict with **94.5% accuracy** the category of a news article. \n",
    "\n",
    "There is a trade-off between time and accuracy:\n",
    "-  The fastest solution takes under 5 seconds to run and has an accuracy of 92.5% (Multinomial Naive Bayes). \n",
    "-  The highest accuracy solution takes over 5 minutes to complete (Logistic Regression).\n"
   ]
  },
  {
   "cell_type": "markdown",
   "metadata": {},
   "source": [
    "### 1.2 About the Dataset"
   ]
  },
  {
   "cell_type": "markdown",
   "metadata": {},
   "source": [
    "The News Aggregator dataset was first used in the publication:\n",
    "-  Gasparetti, F. Data Mining and Knowledge Discovery (2017) 31: 502. https://doi.org/10.1007/s10618-016-0482-x\n",
    "\n",
    "It can be easily downloaded from the UCI Machine Learning Repository:\n",
    "-  http://archive.ics.uci.edu/ml/datasets/News+Aggregator\n",
    "-  [UCI Machine Learning Repository](http://archive.ics.uci.edu/ml). Irvine, CA: University of California, School of Information and Computer Science."
   ]
  },
  {
   "cell_type": "markdown",
   "metadata": {},
   "source": [
    "This dataset contains headlines, URLs, and categories for **422,419** news stories collected by a web aggregator between March 10th, 2014 and August 10th, 2014. News categories in this dataset are labelled as: Business (b), Entertainment (e), Technology (t), Health (m)\n",
    "\n",
    "There are other larger news datasets that I plan to explore at a later date when learning Big Data applications. "
   ]
  },
  {
   "cell_type": "markdown",
   "metadata": {},
   "source": [
    "### 1.2a Importing the data"
   ]
  },
  {
   "cell_type": "code",
   "execution_count": 1,
   "metadata": {},
   "outputs": [],
   "source": [
    "import re\n",
    "import pandas as pd \n",
    "import seaborn as sns\n",
    "import matplotlib.pyplot as plt\n",
    "from nltk.corpus import stopwords\n",
    "import numpy as np\n",
    "import sklearn\n",
    "from sklearn.naive_bayes import MultinomialNB\n",
    "from sklearn.linear_model import LogisticRegression\n",
    "from sklearn.metrics import accuracy_score ,confusion_matrix\n",
    "%matplotlib inline\n",
    "\n",
    "# import packages\n",
    "import requests\n",
    "from datetime import datetime\n",
    "from tqdm import tqdm\n",
    "from nltk.tokenize import word_tokenize, sent_tokenize\n",
    "# list of stopwords like articles, preposition\n",
    "from string import punctuation\n",
    "from collections import Counter\n",
    "stop = set(stopwords.words('english'))"
   ]
  },
  {
   "cell_type": "code",
   "execution_count": 2,
   "metadata": {},
   "outputs": [
    {
     "name": "stdout",
     "output_type": "stream",
     "text": [
      "Wall time: 2.69 s\n"
     ]
    }
   ],
   "source": [
    "%%time\n",
    "news = pd.read_csv(\"C:/Python Project Files/uci-news-aggregator.csv\") #Importing data from CSV"
   ]
  },
  {
   "cell_type": "markdown",
   "metadata": {},
   "source": [
    "### 1.2b Getting to know the data"
   ]
  },
  {
   "cell_type": "code",
   "execution_count": 3,
   "metadata": {},
   "outputs": [
    {
     "data": {
      "text/plain": [
       "(422419, 8)"
      ]
     },
     "execution_count": 3,
     "metadata": {},
     "output_type": "execute_result"
    }
   ],
   "source": [
    "news.shape"
   ]
  },
  {
   "cell_type": "markdown",
   "metadata": {},
   "source": [
    "The dataset contains 422,419 news headlines and 8 variables (columns)."
   ]
  },
  {
   "cell_type": "code",
   "execution_count": 4,
   "metadata": {},
   "outputs": [
    {
     "name": "stdout",
     "output_type": "stream",
     "text": [
      "            ID                                              TITLE  \\\n",
      "422414  422933  Surgeons to remove 4-year-old's rib to rebuild...   \n",
      "422415  422934  Boy to have surgery on esophagus after battery...   \n",
      "422416  422935  Child who swallowed battery to have reconstruc...   \n",
      "422417  422936  Phoenix boy undergoes surgery to repair throat...   \n",
      "422418  422937  Phoenix boy undergoes surgery to repair throat...   \n",
      "\n",
      "                                                      URL        PUBLISHER  \\\n",
      "422414  http://www.cbs3springfield.com/story/26378648/...          WSHM-TV   \n",
      "422415  http://www.wlwt.com/news/boy-to-have-surgery-o...  WLWT Cincinnati   \n",
      "422416  http://www.newsnet5.com/news/local-news/child-...     NewsNet5.com   \n",
      "422417  http://www.wfsb.com/story/26368078/phoenix-boy...             WFSB   \n",
      "422418  http://www.cbs3springfield.com/story/26368078/...          WSHM-TV   \n",
      "\n",
      "       CATEGORY                          STORY                 HOSTNAME  \\\n",
      "422414        m  dpcLMoJD69UYMXMxaoEFnWql9YjQM  www.cbs3springfield.com   \n",
      "422415        m  dpcLMoJD69UYMXMxaoEFnWql9YjQM             www.wlwt.com   \n",
      "422416        m  dpcLMoJD69UYMXMxaoEFnWql9YjQM         www.newsnet5.com   \n",
      "422417        m  dpcLMoJD69UYMXMxaoEFnWql9YjQM             www.wfsb.com   \n",
      "422418        m  dpcLMoJD69UYMXMxaoEFnWql9YjQM  www.cbs3springfield.com   \n",
      "\n",
      "            TIMESTAMP  \n",
      "422414  1409229190251  \n",
      "422415  1409229190508  \n",
      "422416  1409229190771  \n",
      "422417  1409229191071  \n",
      "422418  1409229191565  \n"
     ]
    }
   ],
   "source": [
    "print(news.tail())"
   ]
  },
  {
   "cell_type": "code",
   "execution_count": 5,
   "metadata": {},
   "outputs": [
    {
     "data": {
      "text/plain": [
       "['ID',\n",
       " 'TITLE',\n",
       " 'URL',\n",
       " 'PUBLISHER',\n",
       " 'CATEGORY',\n",
       " 'STORY',\n",
       " 'HOSTNAME',\n",
       " 'TIMESTAMP']"
      ]
     },
     "execution_count": 5,
     "metadata": {},
     "output_type": "execute_result"
    }
   ],
   "source": [
    "list(news.columns.values)"
   ]
  },
  {
   "cell_type": "markdown",
   "metadata": {},
   "source": [
    "The two most important columns will be 'CATEGORY' and 'TITLE'."
   ]
  },
  {
   "cell_type": "code",
   "execution_count": 6,
   "metadata": {},
   "outputs": [
    {
     "data": {
      "text/plain": [
       "PUBLISHER    2\n",
       "TIMESTAMP    0\n",
       "HOSTNAME     0\n",
       "STORY        0\n",
       "CATEGORY     0\n",
       "URL          0\n",
       "TITLE        0\n",
       "ID           0\n",
       "dtype: int64"
      ]
     },
     "execution_count": 6,
     "metadata": {},
     "output_type": "execute_result"
    }
   ],
   "source": [
    "news.isnull().sum().sort_values(ascending=False)"
   ]
  },
  {
   "cell_type": "markdown",
   "metadata": {},
   "source": [
    "There are no important missing values that may affect the analysis. \n",
    "\n",
    "Let us now examine the composition of the news catogories."
   ]
  },
  {
   "cell_type": "code",
   "execution_count": 7,
   "metadata": {},
   "outputs": [
    {
     "data": {
      "text/plain": [
       "e    152469\n",
       "b    115967\n",
       "t    108344\n",
       "m     45639\n",
       "Name: CATEGORY, dtype: int64"
      ]
     },
     "execution_count": 7,
     "metadata": {},
     "output_type": "execute_result"
    }
   ],
   "source": [
    "news.CATEGORY.value_counts()"
   ]
  },
  {
   "cell_type": "code",
   "execution_count": 8,
   "metadata": {},
   "outputs": [
    {
     "name": "stderr",
     "output_type": "stream",
     "text": [
      "C:\\Users\\Cao\\Anaconda3\\lib\\site-packages\\seaborn\\categorical.py:1460: FutureWarning: remove_na is deprecated and is a private function. Do not use.\n",
      "  stat_data = remove_na(group_data)\n"
     ]
    },
    {
     "data": {
      "image/png": "[encoded data removed]",
      "text/plain": [
       "<matplotlib.figure.Figure at 0x20aa68ac240>"
      ]
     },
     "metadata": {},
     "output_type": "display_data"
    },
    {
     "data": {
      "image/png": "[encoded data removed]",
      "text/plain": [
       "<matplotlib.figure.Figure at 0x20a9cadbcc0>"
      ]
     },
     "metadata": {},
     "output_type": "display_data"
    }
   ],
   "source": [
    "df = news[['TITLE', 'CATEGORY']]\n",
    "sns.factorplot(x=\"CATEGORY\", data=df, kind=\"count\", size=4, aspect=1.5, palette=\"Set3\")\n",
    "plt.show();\n",
    "\n",
    "# Data to plot\n",
    "labels = 'Business','Technology','Health','Entertainment'\n",
    "value = news.CATEGORY.value_counts()\n",
    "e, b, t, m = value[0], value[1], value[2], value[3]\n",
    "proportion = [b, t, m, e]\n",
    "colors = ['gold', 'yellowgreen', 'lightcoral', 'lightskyblue']\n",
    "explode = (0.1, 0, 0, 0)  # explode 1st slice\n",
    " \n",
    "# Plot\n",
    "plt.pie(proportion, explode=explode, labels=labels, colors=colors,\n",
    "        autopct='%1.1f%%', shadow=True, startangle=140)\n",
    "plt.axis('equal')\n",
    "plt.show()"
   ]
  },
  {
   "cell_type": "markdown",
   "metadata": {},
   "source": [
    "Lots of entertainment news and less news focussed on health. "
   ]
  },
  {
   "cell_type": "markdown",
   "metadata": {},
   "source": [
    "To help with the flow of this analysis, I will dive deeper into the data later on using K-means clustering. In the meantime, let's go ahead and start training some models to classify these news articles."
   ]
  },
  {
   "cell_type": "markdown",
   "metadata": {},
   "source": [
    "## 1.3 Training a model"
   ]
  },
  {
   "cell_type": "markdown",
   "metadata": {},
   "source": [
    "#### Vectorizing the Data"
   ]
  },
  {
   "cell_type": "markdown",
   "metadata": {},
   "source": [
    "To train the data using various algorithms it is necessary to vectorise the data and split it into train and test sets."
   ]
  },
  {
   "cell_type": "code",
   "execution_count": 9,
   "metadata": {},
   "outputs": [
    {
     "name": "stdout",
     "output_type": "stream",
     "text": [
      "(316814, 54637)\n",
      "(316814,)\n",
      "(105605, 54637)\n",
      "(105605,)\n"
     ]
    }
   ],
   "source": [
    "from sklearn.feature_extraction.text import CountVectorizer\n",
    "from sklearn.feature_extraction.text import TfidfVectorizer, TfidfTransformer\n",
    "from sklearn.pipeline import make_pipeline\n",
    "from sklearn.model_selection import GridSearchCV\n",
    "from sklearn.preprocessing import LabelEncoder\n",
    "from sklearn.naive_bayes import MultinomialNB\n",
    "from sklearn.model_selection import train_test_split\n",
    "from sklearn import metrics \n",
    "from sklearn.metrics import confusion_matrix\n",
    "from sklearn.metrics import classification_report\n",
    "from sklearn.model_selection import cross_val_score\n",
    "\n",
    "# pull the data into vectors\n",
    "vectorizer = CountVectorizer()\n",
    "x = vectorizer.fit_transform(news['TITLE'])\n",
    "\n",
    "encoder = LabelEncoder()\n",
    "y = encoder.fit_transform(news['CATEGORY'])\n",
    "\n",
    "# split into train and test sets\n",
    "x_train, x_test, y_train, y_test = train_test_split(x, y, random_state=0)\n",
    "\n",
    "# take a look at the shape of each of these\n",
    "print(x_train.shape)\n",
    "print(y_train.shape)\n",
    "print(x_test.shape)\n",
    "print(y_test.shape)"
   ]
  },
  {
   "cell_type": "markdown",
   "metadata": {},
   "source": [
    "## 1.3a Linear SVC"
   ]
  },
  {
   "cell_type": "markdown",
   "metadata": {},
   "source": [
    "According to the [scikit-learn algorithm cheat-sheet.](http://scikit-learn.org/stable/tutorial/machine_learning_map/index.html)\n",
    "The first machine learning algorithm to use is Support Vector Machines, specifically Linear Support Vector Classification ([Linear SVC](http://scikit-learn.org/stable/modules/svm.html#classification)). \n",
    "Followed by Naive Bayes.\n"
   ]
  },
  {
   "cell_type": "markdown",
   "metadata": {},
   "source": [
    "Let's begin developing our first model using Linear SVC which implements the \"one-vs-the-rest\" multi-class classification method."
   ]
  },
  {
   "cell_type": "code",
   "execution_count": 10,
   "metadata": {},
   "outputs": [
    {
     "name": "stdout",
     "output_type": "stream",
     "text": [
      "Wall time: 1min 13s\n"
     ]
    }
   ],
   "source": [
    "%%time\n",
    "from sklearn import svm\n",
    "\n",
    "lsvc = svm.LinearSVC()\n",
    "lsvc.fit(x_train, y_train)"
   ]
  },
  {
   "cell_type": "code",
   "execution_count": 11,
   "metadata": {},
   "outputs": [
    {
     "name": "stdout",
     "output_type": "stream",
     "text": [
      "0.945564250121\n",
      "Wall time: 4min\n"
     ]
    }
   ],
   "source": [
    "%%time\n",
    "results_lsvc_cv = cross_val_score(lsvc, x_train, y_train, cv=5)\n",
    "print(results_lsvc_cv.mean())"
   ]
  },
  {
   "cell_type": "markdown",
   "metadata": {},
   "source": [
    "**94.6% accuracy using 5-fold cross validation**"
   ]
  },
  {
   "cell_type": "code",
   "execution_count": 12,
   "metadata": {},
   "outputs": [
    {
     "data": {
      "text/plain": [
       "array([[27103,   377,   252,  1467],\n",
       "       [  442, 37057,   144,   318],\n",
       "       [  387,   191, 10808,   146],\n",
       "       [ 1344,   332,   114, 25123]], dtype=int64)"
      ]
     },
     "execution_count": 12,
     "metadata": {},
     "output_type": "execute_result"
    }
   ],
   "source": [
    "x_test_lsvc_pred = lsvc.predict(x_test)\n",
    "confusion_matrix(y_test, x_test_lsvc_pred)"
   ]
  },
  {
   "cell_type": "code",
   "execution_count": 13,
   "metadata": {
    "collapsed": true
   },
   "outputs": [],
   "source": [
    "array = confusion_matrix(y_test, x_test_lsvc_pred)\n",
    "# Normalise the confusion matrix\n",
    "cm = array.astype('float') / array.sum(axis=1)[:, np.newaxis]"
   ]
  },
  {
   "cell_type": "code",
   "execution_count": 14,
   "metadata": {},
   "outputs": [
    {
     "data": {
      "text/plain": [
       "<matplotlib.axes._subplots.AxesSubplot at 0x20a9b43e6d8>"
      ]
     },
     "execution_count": 14,
     "metadata": {},
     "output_type": "execute_result"
    },
    {
     "data": {
      "image/png": "[encoded data removed]",
      "text/plain": [
       "<matplotlib.figure.Figure at 0x20aa68dd6a0>"
      ]
     },
     "metadata": {},
     "output_type": "display_data"
    }
   ],
   "source": [
    "Cat = [\"Business\", \"Entertainment\", \"Health\", \"Technology\"]\n",
    "df_cm = pd.DataFrame(cm, index = Cat, columns = Cat)\n",
    "plt.figure(figsize = (10,7))\n",
    "sns.heatmap(df_cm, annot=True, cmap=\"YlGnBu\")"
   ]
  },
  {
   "cell_type": "code",
   "execution_count": 15,
   "metadata": {},
   "outputs": [
    {
     "name": "stdout",
     "output_type": "stream",
     "text": [
      "             precision    recall  f1-score   support\n",
      "\n",
      "          b       0.93      0.93      0.93     29199\n",
      "          e       0.98      0.98      0.98     37961\n",
      "          m       0.95      0.94      0.95     11532\n",
      "          t       0.93      0.93      0.93     26913\n",
      "\n",
      "avg / total       0.95      0.95      0.95    105605\n",
      "\n"
     ]
    }
   ],
   "source": [
    "print(classification_report(y_test, x_test_lsvc_pred, target_names=encoder.classes_))"
   ]
  },
  {
   "cell_type": "markdown",
   "metadata": {},
   "source": [
    "**Analysis of results** - This algorithm produces very good results in terms of accuracy at 94.6%. Training took 1 minute, while 5-fold cross validation took 4 minutes. Obtaining an accuracy of around 80% is typical in NLP problems."
   ]
  },
  {
   "cell_type": "markdown",
   "metadata": {},
   "source": [
    "## 1.3b Multinomial Naive Bayes"
   ]
  },
  {
   "cell_type": "code",
   "execution_count": 16,
   "metadata": {},
   "outputs": [
    {
     "name": "stdout",
     "output_type": "stream",
     "text": [
      "Wall time: 224 ms\n"
     ]
    }
   ],
   "source": [
    "%%time \n",
    "nb = MultinomialNB()\n",
    "nb.fit(x_train, y_train)"
   ]
  },
  {
   "cell_type": "code",
   "execution_count": 17,
   "metadata": {},
   "outputs": [
    {
     "name": "stdout",
     "output_type": "stream",
     "text": [
      "0.92526845067\n",
      "Wall time: 2.12 s\n"
     ]
    }
   ],
   "source": [
    "%%time\n",
    "results_nb_cv = cross_val_score(nb, x_train, y_train, cv=5)\n",
    "print(results_nb_cv.mean())"
   ]
  },
  {
   "cell_type": "markdown",
   "metadata": {},
   "source": [
    "**92.5% accuracy using 5-fold cross validation**"
   ]
  },
  {
   "cell_type": "code",
   "execution_count": 18,
   "metadata": {},
   "outputs": [
    {
     "data": {
      "text/plain": [
       "array([[26285,   520,   459,  1935],\n",
       "       [  502, 36510,   224,   725],\n",
       "       [  432,   369, 10508,   223],\n",
       "       [ 1725,   471,   260, 24457]], dtype=int64)"
      ]
     },
     "execution_count": 18,
     "metadata": {},
     "output_type": "execute_result"
    }
   ],
   "source": [
    "x_test_pred = nb.predict(x_test)\n",
    "confusion_matrix(y_test, x_test_pred)"
   ]
  },
  {
   "cell_type": "code",
   "execution_count": 19,
   "metadata": {
    "collapsed": true
   },
   "outputs": [],
   "source": [
    "array = confusion_matrix(y_test, x_test_pred)\n",
    "# Normalise the confusion matrix\n",
    "cm = array.astype('float') / array.sum(axis=1)[:, np.newaxis]"
   ]
  },
  {
   "cell_type": "code",
   "execution_count": 20,
   "metadata": {},
   "outputs": [
    {
     "data": {
      "text/plain": [
       "<matplotlib.axes._subplots.AxesSubplot at 0x20a9e547dd8>"
      ]
     },
     "execution_count": 20,
     "metadata": {},
     "output_type": "execute_result"
    },
    {
     "data": {
      "image/png": "[encoded data removed]",
      "text/plain": [
       "<matplotlib.figure.Figure at 0x20a9d86d4e0>"
      ]
     },
     "metadata": {},
     "output_type": "display_data"
    }
   ],
   "source": [
    "Cat = [\"Business\", \"Entertainment\", \"Health\", \"Technology\"]\n",
    "df_cm = pd.DataFrame(cm, index = Cat, columns = Cat)\n",
    "plt.figure(figsize = (10,7))\n",
    "sns.heatmap(df_cm, annot=True, cmap=\"YlGnBu\")"
   ]
  },
  {
   "cell_type": "code",
   "execution_count": 21,
   "metadata": {},
   "outputs": [
    {
     "name": "stdout",
     "output_type": "stream",
     "text": [
      "             precision    recall  f1-score   support\n",
      "\n",
      "          b       0.91      0.90      0.90     29199\n",
      "          e       0.96      0.96      0.96     37961\n",
      "          m       0.92      0.91      0.91     11532\n",
      "          t       0.89      0.91      0.90     26913\n",
      "\n",
      "avg / total       0.93      0.93      0.93    105605\n",
      "\n"
     ]
    }
   ],
   "source": [
    "print(classification_report(y_test, x_test_pred, target_names=encoder.classes_))"
   ]
  },
  {
   "cell_type": "markdown",
   "metadata": {},
   "source": [
    "**Analysis of results** - Accuracy 92.5% is not as high as Linear SVC but still very good. Training was instantaneous, while 5-fold cross validation took 2 seconds. An extremely fast but powerful model. If we refer back to the overall objective of producing sentiment trading signals, then classifying news categorise is only the first workstream in the process. Therefore the compromise in accuracy is probabaly acceptable in order to improve speed. "
   ]
  },
  {
   "cell_type": "markdown",
   "metadata": {},
   "source": [
    "## 1.3c Logistic regression"
   ]
  },
  {
   "cell_type": "markdown",
   "metadata": {},
   "source": [
    "Just by running two algorithms we have managed to find acceptable solutions. Out of interest, we will carry out a couple more algorithms to compare. "
   ]
  },
  {
   "cell_type": "code",
   "execution_count": 22,
   "metadata": {},
   "outputs": [
    {
     "name": "stdout",
     "output_type": "stream",
     "text": [
      "Wall time: 1min 4s\n"
     ]
    }
   ],
   "source": [
    "%%time\n",
    "from sklearn.linear_model import LogisticRegression\n",
    "from sklearn.multiclass import OneVsRestClassifier\n",
    "\n",
    "clf = OneVsRestClassifier(LogisticRegression())\n",
    "clf.fit(x_train, y_train)"
   ]
  },
  {
   "cell_type": "code",
   "execution_count": 23,
   "metadata": {},
   "outputs": [
    {
     "name": "stdout",
     "output_type": "stream",
     "text": [
      "0.945791524442\n",
      "Wall time: 4min 7s\n"
     ]
    }
   ],
   "source": [
    "%%time\n",
    "results_clf_cv = cross_val_score(clf, x_train, y_train, cv=5)\n",
    "print(results_clf_cv.mean())"
   ]
  },
  {
   "cell_type": "markdown",
   "metadata": {},
   "source": [
    "**94.6% accuracy using 5-fold cross validation**"
   ]
  },
  {
   "cell_type": "code",
   "execution_count": 24,
   "metadata": {},
   "outputs": [
    {
     "data": {
      "text/plain": [
       "array([[27137,   404,   226,  1432],\n",
       "       [  436, 37151,    92,   282],\n",
       "       [  430,   241, 10701,   160],\n",
       "       [ 1331,   374,    96, 25112]], dtype=int64)"
      ]
     },
     "execution_count": 24,
     "metadata": {},
     "output_type": "execute_result"
    }
   ],
   "source": [
    "x_test_clf_pred = clf.predict(x_test)\n",
    "confusion_matrix(y_test, x_test_clf_pred)"
   ]
  },
  {
   "cell_type": "code",
   "execution_count": 25,
   "metadata": {
    "collapsed": true
   },
   "outputs": [],
   "source": [
    "array = confusion_matrix(y_test, x_test_clf_pred)\n",
    "# Normalise the confusion matrix\n",
    "cm = array.astype('float') / array.sum(axis=1)[:, np.newaxis]"
   ]
  },
  {
   "cell_type": "code",
   "execution_count": 26,
   "metadata": {},
   "outputs": [
    {
     "data": {
      "text/plain": [
       "<matplotlib.axes._subplots.AxesSubplot at 0x20a9d810f28>"
      ]
     },
     "execution_count": 26,
     "metadata": {},
     "output_type": "execute_result"
    },
    {
     "data": {
      "image/png": "[encoded data removed]",
      "text/plain": [
       "<matplotlib.figure.Figure at 0x20a9d8400f0>"
      ]
     },
     "metadata": {},
     "output_type": "display_data"
    }
   ],
   "source": [
    "Cat = [\"Business\", \"Entertainment\", \"Health\", \"Technology\"]\n",
    "df_cm = pd.DataFrame(cm, index = Cat,\n",
    "                  columns = Cat)\n",
    "plt.figure(figsize = (10,7))\n",
    "sns.heatmap(df_cm, annot=True, cmap=\"YlGnBu\")"
   ]
  },
  {
   "cell_type": "code",
   "execution_count": 27,
   "metadata": {},
   "outputs": [
    {
     "name": "stdout",
     "output_type": "stream",
     "text": [
      "             precision    recall  f1-score   support\n",
      "\n",
      "          b       0.93      0.93      0.93     29199\n",
      "          e       0.97      0.98      0.98     37961\n",
      "          m       0.96      0.93      0.95     11532\n",
      "          t       0.93      0.93      0.93     26913\n",
      "\n",
      "avg / total       0.95      0.95      0.95    105605\n",
      "\n"
     ]
    }
   ],
   "source": [
    "print(classification_report(y_test, x_test_clf_pred, target_names=encoder.classes_))"
   ]
  },
  {
   "cell_type": "markdown",
   "metadata": {},
   "source": [
    "**Analysis of results** - As expected, very similar results to Linear SVC. "
   ]
  },
  {
   "cell_type": "markdown",
   "metadata": {},
   "source": [
    "## 1.3d Random Forest"
   ]
  },
  {
   "cell_type": "code",
   "execution_count": 28,
   "metadata": {},
   "outputs": [
    {
     "name": "stdout",
     "output_type": "stream",
     "text": [
      "Wall time: 11min 51s\n"
     ]
    }
   ],
   "source": [
    "%%time\n",
    "from sklearn.ensemble import RandomForestClassifier\n",
    "\n",
    "rf = RandomForestClassifier()\n",
    "rf.fit(x_train, y_train)"
   ]
  },
  {
   "cell_type": "code",
   "execution_count": 29,
   "metadata": {},
   "outputs": [
    {
     "name": "stdout",
     "output_type": "stream",
     "text": [
      "0.906446653552\n",
      "Wall time: 47min 19s\n"
     ]
    }
   ],
   "source": [
    "%%time\n",
    "results_rf_cv = cross_val_score(rf, x_train, y_train, cv=5)\n",
    "print(results_rf_cv.mean())"
   ]
  },
  {
   "cell_type": "markdown",
   "metadata": {},
   "source": [
    "**90.6% accuracy using 5-fold cross validation**"
   ]
  },
  {
   "cell_type": "code",
   "execution_count": 30,
   "metadata": {},
   "outputs": [
    {
     "data": {
      "text/plain": [
       "array([[26501,  1155,   279,  1264],\n",
       "       [  814, 36606,   161,   380],\n",
       "       [  730,   837,  9720,   245],\n",
       "       [ 1877,  1225,   203, 23608]], dtype=int64)"
      ]
     },
     "execution_count": 30,
     "metadata": {},
     "output_type": "execute_result"
    }
   ],
   "source": [
    "x_test_rf_pred = rf.predict(x_test)\n",
    "confusion_matrix(y_test, x_test_rf_pred)"
   ]
  },
  {
   "cell_type": "code",
   "execution_count": 31,
   "metadata": {
    "collapsed": true
   },
   "outputs": [],
   "source": [
    "array = confusion_matrix(y_test, x_test_rf_pred)\n",
    "# Normalise the confusion matrix\n",
    "cm = array.astype('float') / array.sum(axis=1)[:, np.newaxis]"
   ]
  },
  {
   "cell_type": "code",
   "execution_count": 32,
   "metadata": {},
   "outputs": [
    {
     "data": {
      "text/plain": [
       "<matplotlib.axes._subplots.AxesSubplot at 0x20a9bf4f588>"
      ]
     },
     "execution_count": 32,
     "metadata": {},
     "output_type": "execute_result"
    },
    {
     "data": {
      "image/png": "[encoded data removed]",
      "text/plain": [
       "<matplotlib.figure.Figure at 0x20a9d810518>"
      ]
     },
     "metadata": {},
     "output_type": "display_data"
    }
   ],
   "source": [
    "Cat = [\"Business\", \"Entertainment\", \"Health\", \"Technology\"]\n",
    "df_cm = pd.DataFrame(cm, index = Cat,\n",
    "                  columns = Cat)\n",
    "plt.figure(figsize = (10,7))\n",
    "sns.heatmap(df_cm, annot=True, cmap=\"YlGnBu\")"
   ]
  },
  {
   "cell_type": "code",
   "execution_count": 33,
   "metadata": {},
   "outputs": [
    {
     "name": "stdout",
     "output_type": "stream",
     "text": [
      "             precision    recall  f1-score   support\n",
      "\n",
      "          b       0.89      0.91      0.90     29199\n",
      "          e       0.92      0.96      0.94     37961\n",
      "          m       0.94      0.84      0.89     11532\n",
      "          t       0.93      0.88      0.90     26913\n",
      "\n",
      "avg / total       0.91      0.91      0.91    105605\n",
      "\n"
     ]
    }
   ],
   "source": [
    "print(classification_report(y_test, x_test_rf_pred, target_names=encoder.classes_))"
   ]
  },
  {
   "cell_type": "markdown",
   "metadata": {},
   "source": [
    "**Analysis of results** - Following the scikit-learn algorithm cheat-sheet makes sense. Random Forest is the wrong tool to use and has taken a huge amount of time to run in comparison to previous methods. In addition the accuracy results are the lowest of all the methods at 90.7%"
   ]
  },
  {
   "cell_type": "markdown",
   "metadata": {},
   "source": [
    "## 1.4 Testing some predictions using Multinomial NB model"
   ]
  },
  {
   "cell_type": "code",
   "execution_count": 34,
   "metadata": {
    "collapsed": true
   },
   "outputs": [],
   "source": [
    "def predict(title):\n",
    "    cat_names = {'b' : 'Business', 't' : 'Science and Technology', 'e' : 'Entertainment', 'm' : 'Health'}\n",
    "    cod = nb.predict(vectorizer.transform([title]))\n",
    "    return cat_names[encoder.inverse_transform(cod)[0]]"
   ]
  },
  {
   "cell_type": "code",
   "execution_count": 35,
   "metadata": {},
   "outputs": [
    {
     "data": {
      "text/plain": [
       "'Business'"
      ]
     },
     "execution_count": 35,
     "metadata": {},
     "output_type": "execute_result"
    }
   ],
   "source": [
    "predict(\"Bank of England raises interest rates\")"
   ]
  },
  {
   "cell_type": "code",
   "execution_count": 36,
   "metadata": {},
   "outputs": [
    {
     "data": {
      "text/plain": [
       "'Business'"
      ]
     },
     "execution_count": 36,
     "metadata": {},
     "output_type": "execute_result"
    }
   ],
   "source": [
    "predict(\"Cryptocurrencies rally on news of latest technology advances\")"
   ]
  },
  {
   "cell_type": "code",
   "execution_count": 37,
   "metadata": {},
   "outputs": [
    {
     "data": {
      "text/plain": [
       "'Business'"
      ]
     },
     "execution_count": 37,
     "metadata": {},
     "output_type": "execute_result"
    }
   ],
   "source": [
    "predict(\"The health of the Asian market is entertaining to watch\")"
   ]
  },
  {
   "cell_type": "code",
   "execution_count": 38,
   "metadata": {},
   "outputs": [
    {
     "data": {
      "text/plain": [
       "'Business'"
      ]
     },
     "execution_count": 38,
     "metadata": {},
     "output_type": "execute_result"
    }
   ],
   "source": [
    "predict(\"The UK economy is in better shape than expected, Chancellor Philip Hammond is set to say in his Spring Statement. But he will resist calls from Labour and some Tories to use the extra cash from tax receipts to ease the spending squeeze they say is pushing the public sector to breaking point. Mr Hammond will argue that the UK's national debt is still far too high.\")"
   ]
  },
  {
   "cell_type": "code",
   "execution_count": 39,
   "metadata": {},
   "outputs": [
    {
     "data": {
      "text/plain": [
       "'Health'"
      ]
     },
     "execution_count": 39,
     "metadata": {},
     "output_type": "execute_result"
    }
   ],
   "source": [
    "predict(\"Chinese takeaway meals from restaurants and supermarkets should carry health warnings because they are often high in salt, a campaign group says.\")"
   ]
  },
  {
   "cell_type": "code",
   "execution_count": 40,
   "metadata": {},
   "outputs": [
    {
     "data": {
      "text/plain": [
       "'Science and Technology'"
      ]
     },
     "execution_count": 40,
     "metadata": {},
     "output_type": "execute_result"
    }
   ],
   "source": [
    "predict(\"Demand for the new millennial railcard has crashed the website on the first day of nationwide sales.\")"
   ]
  },
  {
   "cell_type": "code",
   "execution_count": 41,
   "metadata": {},
   "outputs": [
    {
     "data": {
      "text/plain": [
       "'Entertainment'"
      ]
     },
     "execution_count": 41,
     "metadata": {},
     "output_type": "execute_result"
    }
   ],
   "source": [
    "predict(\"Beyonce and Jay-Z are going on a joint tour called On The Run II, it has finally been confirmed. The announcement was made in a promotional video of the couple together which was posted on Beyonce's Instagram page. Fans had speculated the couple were planning a joint tour after a listing was posted on Ticketmaster and on Beyonce's Facebook page last Tuesday.\")"
   ]
  },
  {
   "cell_type": "markdown",
   "metadata": {},
   "source": [
    "## 1.5 Saving and importing the model for future use"
   ]
  },
  {
   "cell_type": "code",
   "execution_count": 43,
   "metadata": {
    "collapsed": true
   },
   "outputs": [],
   "source": [
    "import pickle\n",
    "\n",
    "# save the model to disk\n",
    "filename = 'finalized_nb.sav'\n",
    "pickle.dump(nb, open(filename, 'wb'))"
   ]
  },
  {
   "cell_type": "code",
   "execution_count": 44,
   "metadata": {},
   "outputs": [],
   "source": [
    "# some time later...\n",
    "# load the model from disk\n",
    "filename = 'finalized_nb.sav'\n",
    "nb = pickle.load(open(filename, 'rb'))"
   ]
  },
  {
   "cell_type": "markdown",
   "metadata": {},
   "source": [
    "## 1.6 Lessons I have learnt from this project"
   ]
  },
  {
   "cell_type": "markdown",
   "metadata": {},
   "source": [
    "New tools to add to skillset:\n",
    "-  EDA visualisation techniques: trying out different ways to plot bar and pie charts using seaborn and matplotlib.\n",
    "-  EDA visualisation techniques: experimenting with diffent ways to plot confusion matrices. Choose to use seaborn heatmap.\n",
    "-  Using CountVectorizer\n",
    "\n",
    "Practiced:\n",
    "-  Linear SVC\n",
    "-  Logistic Regression (OneVsRestClassifier)\n",
    "-  Multinomial Naive Bayes\n",
    "-  Random Forest\n",
    "-  Cross validation\n",
    "-  Saving models and importing models for future use"
   ]
  }
 ],
 "metadata": {
  "kernelspec": {
   "display_name": "Python 3",
   "language": "python",
   "name": "python3"
  },
  "language_info": {
   "codemirror_mode": {
    "name": "ipython",
    "version": 3
   },
   "file_extension": ".py",
   "mimetype": "text/x-python",
   "name": "python",
   "nbconvert_exporter": "python",
   "pygments_lexer": "ipython3",
   "version": "3.5.4"
  }
 },
 "nbformat": 4,
 "nbformat_minor": 2
}
