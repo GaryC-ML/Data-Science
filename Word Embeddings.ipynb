{
 "cells": [
  {
   "cell_type": "markdown",
   "metadata": {},
   "source": [
    "# Word Embeddings - Using Google's Word2Vec and Stanford's GloVe Embedding"
   ]
  },
  {
   "cell_type": "markdown",
   "metadata": {},
   "source": [
    "Within Natural Language Processing (NLP), a useful tool is Google's Word2Vec. This is a deep-learning inspired method that focuses on the meaning of words. Word2Vec attempts to understand meaning and semantic relationships among words. It works in a way that is similar to deep approaches but is computationally more efficient. "
   ]
  },
  {
   "cell_type": "markdown",
   "metadata": {},
   "source": [
    "Stanford researchers also have their own word embedding algorithm like word2vec called Global Vectors for Word Representation, or GloVe for short.\n",
    "\n",
    "These embedding algorithms are key to the state-of-the-art results achieved by neural network models on natural language processing problems like machine translation. Sentiment analysis is another challenging subject in machine learning. People express their emotions in language that is often obscured by sarcasm, ambiguity, and plays on words, all of which could be very misleading for both humans and computers. "
   ]
  },
  {
   "cell_type": "markdown",
   "metadata": {},
   "source": [
    "Here is an outline of the remaining blog:\n",
    "1. Developing my own Word2Vew Embedding using a simple training data\n",
    "2. Visualising the Word Embedding using PCA\n",
    "3. Loading Google's Word2Vec Embedding\n",
    "4. Loading Stanford's GloVe Embedding"
   ]
  },
  {
   "cell_type": "markdown",
   "metadata": {},
   "source": [
    "## 1. Developing Word2Vec Embedding - simplified training data"
   ]
  },
  {
   "cell_type": "markdown",
   "metadata": {},
   "source": [
    "Import the Gensim open source NLP library."
   ]
  },
  {
   "cell_type": "code",
   "execution_count": 2,
   "metadata": {},
   "outputs": [],
   "source": [
    "from gensim.models import Word2Vec"
   ]
  },
  {
   "cell_type": "markdown",
   "metadata": {},
   "source": [
    "My training set is an excerpt from a movie review within the IMDB data set (which is my next small project)."
   ]
  },
  {
   "cell_type": "code",
   "execution_count": 3,
   "metadata": {},
   "outputs": [],
   "source": [
    "# define training data\n",
    "sentences = [['With', 'the', 'mixed', 'reviews', 'this', 'film', 'got'],\n",
    "            ['I', 'was', 'not', 'expecting', 'too', 'much'],\n",
    "            ['A', 'very', 'entertaining', 'small', 'crime', 'film'],\n",
    "            ['with', 'interesting', 'characters', 'excellent', 'portrayals'],\n",
    "            ['writing', 'that', 'is', 'breezy', 'without', 'being', 'glib',], \n",
    "            ['a', 'good', 'pace']]"
   ]
  },
  {
   "cell_type": "code",
   "execution_count": 4,
   "metadata": {},
   "outputs": [
    {
     "name": "stdout",
     "output_type": "stream",
     "text": [
      "Word2Vec(vocab=33, size=100, alpha=0.025)\n"
     ]
    }
   ],
   "source": [
    "# train model\n",
    "model = Word2Vec(sentences, min_count=1)\n",
    "# summarize the loaded model\n",
    "print(model)"
   ]
  },
  {
   "cell_type": "code",
   "execution_count": 5,
   "metadata": {},
   "outputs": [
    {
     "name": "stdout",
     "output_type": "stream",
     "text": [
      "['With', 'the', 'mixed', 'reviews', 'this', 'film', 'got', 'I', 'was', 'not', 'expecting', 'too', 'much', 'A', 'very', 'entertaining', 'small', 'crime', 'with', 'interesting', 'characters', 'excellent', 'portrayals', 'writing', 'that', 'is', 'breezy', 'without', 'being', 'glib', 'a', 'good', 'pace']\n"
     ]
    }
   ],
   "source": [
    "# summarize vocabulary\n",
    "words = list(model.wv.vocab)\n",
    "print(words)"
   ]
  },
  {
   "cell_type": "code",
   "execution_count": 6,
   "metadata": {},
   "outputs": [
    {
     "name": "stdout",
     "output_type": "stream",
     "text": [
      "[  1.13449339e-03  -5.11670951e-04   2.08500284e-03  -1.16851697e-04\n",
      "  -1.08215376e-03  -1.49930851e-03   1.05314224e-03  -4.16729134e-04\n",
      "  -2.46455893e-03   4.40827385e-03  -7.24913261e-04  -4.73194662e-03\n",
      "   2.29296833e-03   2.60773697e-04  -3.70110921e-03  -2.02598120e-03\n",
      "  -4.16703289e-03  -5.17302076e-04  -2.68254429e-03  -3.04167252e-03\n",
      "  -4.74680244e-04  -1.11178988e-05   1.96223590e-03  -3.90663929e-03\n",
      "   3.52257327e-03   2.58800387e-03   1.13349874e-03   3.15036392e-03\n",
      "  -4.86069592e-03  -4.55264607e-03  -3.84059269e-03   4.70914878e-03\n",
      "   3.28886020e-03   1.94214063e-03   2.72121327e-03  -1.32542755e-03\n",
      "  -3.39167099e-03  -4.47573327e-03   7.14802532e-04   4.05322947e-03\n",
      "  -4.53591533e-03  -3.68453818e-03  -4.70294431e-03   7.03372934e-04\n",
      "  -7.33818335e-04   3.80842830e-03   2.15880014e-03  -4.15752642e-04\n",
      "  -1.15134113e-03   2.80903419e-03  -4.84162895e-03  -3.47332424e-03\n",
      "   2.40006670e-03  -2.41541141e-03   5.03918673e-05  -2.62537063e-03\n",
      "   2.78123887e-03   2.78312131e-03  -2.24435632e-03  -4.60097147e-03\n",
      "   2.18138867e-03  -2.95630679e-03   3.79351643e-03   4.73792425e-05\n",
      "  -4.40264540e-03   5.89089468e-04  -3.90187115e-03   7.26661470e-04\n",
      "  -2.13695457e-03  -3.89262149e-03  -2.13284092e-03   2.68296804e-03\n",
      "  -2.13099411e-03   1.09010609e-03  -1.00234093e-03  -1.24496990e-04\n",
      "  -6.90681452e-04  -1.42846117e-03   3.65386298e-03   4.20186156e-03\n",
      "   3.35386954e-03  -1.40035653e-03   2.13943468e-03   3.26618552e-03\n",
      "  -1.45129638e-03  -4.57351794e-03  -4.07920126e-03  -1.92248219e-04\n",
      "  -1.39575079e-03   2.93990131e-03  -3.84845561e-03  -3.15657677e-03\n",
      "  -1.16152561e-03   4.47900733e-03   1.85987577e-04  -1.68332073e-03\n",
      "  -4.32866020e-03  -3.42189730e-03   2.86822347e-03  -1.30766083e-03]\n"
     ]
    },
    {
     "name": "stderr",
     "output_type": "stream",
     "text": [
      "C:\\Users\\Cao\\Anaconda3\\lib\\site-packages\\ipykernel_launcher.py:2: DeprecationWarning: Call to deprecated `__getitem__` (Method will be removed in 4.0.0, use self.wv.__getitem__() instead).\n",
      "  \n"
     ]
    }
   ],
   "source": [
    "# access vector for one word\n",
    "print(model['film'])"
   ]
  },
  {
   "cell_type": "code",
   "execution_count": 7,
   "metadata": {},
   "outputs": [],
   "source": [
    "# save model\n",
    "model.save('model.bin')"
   ]
  },
  {
   "cell_type": "markdown",
   "metadata": {},
   "source": [
    "It is now possible to use load this model for future use"
   ]
  },
  {
   "cell_type": "code",
   "execution_count": 8,
   "metadata": {},
   "outputs": [
    {
     "name": "stdout",
     "output_type": "stream",
     "text": [
      "Word2Vec(vocab=33, size=100, alpha=0.025)\n"
     ]
    }
   ],
   "source": [
    "# load model\n",
    "new_model = Word2Vec.load('model.bin')\n",
    "\n",
    "print(new_model)"
   ]
  },
  {
   "cell_type": "markdown",
   "metadata": {},
   "source": [
    "## 2. Visualising the Word Embedding using PCA"
   ]
  },
  {
   "cell_type": "markdown",
   "metadata": {},
   "source": [
    "Using Principal Component Analysis (PCA), we can visualise the model."
   ]
  },
  {
   "cell_type": "code",
   "execution_count": 9,
   "metadata": {},
   "outputs": [],
   "source": [
    "from gensim.models import Word2Vec\n",
    "from sklearn.decomposition import PCA\n",
    "from matplotlib import pyplot"
   ]
  },
  {
   "cell_type": "code",
   "execution_count": 10,
   "metadata": {},
   "outputs": [
    {
     "name": "stderr",
     "output_type": "stream",
     "text": [
      "C:\\Users\\Cao\\Anaconda3\\lib\\site-packages\\ipykernel_launcher.py:2: DeprecationWarning: Call to deprecated `__getitem__` (Method will be removed in 4.0.0, use self.wv.__getitem__() instead).\n",
      "  \n"
     ]
    }
   ],
   "source": [
    "# create a 2-dimensional PCA model of the word vectors\n",
    "X = model[model.wv.vocab]\n",
    "pca = PCA(n_components=2)\n",
    "result = pca.fit_transform(X)"
   ]
  },
  {
   "cell_type": "code",
   "execution_count": 11,
   "metadata": {},
   "outputs": [
    {
     "data": {
      "image/png": "[encoded data removed]",
      "text/plain": [
       "<matplotlib.figure.Figure at 0x158ecbe3fd0>"
      ]
     },
     "metadata": {},
     "output_type": "display_data"
    }
   ],
   "source": [
    "# create a scatter plot \n",
    "pyplot.scatter(result[:, 0], result[:, 1])\n",
    "words = list(model.wv.vocab)\n",
    "for i, word in enumerate(words):\n",
    "    pyplot.annotate(word, xy=(result[i, 0], result[i, 1]))\n",
    "pyplot.show()"
   ]
  },
  {
   "cell_type": "markdown",
   "metadata": {},
   "source": [
    "It is hard to derive any meaning out of the graph since only a tiny corpus was used to fit the model."
   ]
  },
  {
   "cell_type": "markdown",
   "metadata": {},
   "source": [
    "## 3. Loading Google's Word2Vec Embedding"
   ]
  },
  {
   "cell_type": "markdown",
   "metadata": {},
   "source": [
    "An alternative to training your own word vectors is to use an existing pre-trained word embedding.\n",
    "\n",
    "The pre-trained Google word2vec model was trained on Google news data (about 100 billion words). It contains 3 million words and phrases and was fit using 300-dimensional word vectors: GoogleNews-vectors-negative300.bin.gz\n",
    "\n",
    "This file is 1.53 GB zipped and 3.4 GB unzipped."
   ]
  },
  {
   "cell_type": "code",
   "execution_count": 12,
   "metadata": {},
   "outputs": [
    {
     "name": "stdout",
     "output_type": "stream",
     "text": [
      "Wall time: 1min 56s\n"
     ]
    }
   ],
   "source": [
    "from gensim.models import KeyedVectors\n",
    "filename = 'F:/Python Project Files/GoogleNews-vectors-negative300.bin'\n",
    "%time model = KeyedVectors.load_word2vec_format(filename, binary=True)"
   ]
  },
  {
   "cell_type": "markdown",
   "metadata": {},
   "source": [
    "I have a slow machine!"
   ]
  },
  {
   "cell_type": "markdown",
   "metadata": {},
   "source": [
    "## 4. Loading Stanford's GloVe Embedding"
   ]
  },
  {
   "cell_type": "markdown",
   "metadata": {},
   "source": [
    "The general consensus is that NLP practitioners currently seem to prefer GloVe over Word2Vec based on results. Looking through Kaggle competitions, I see this trend too."
   ]
  },
  {
   "cell_type": "markdown",
   "metadata": {},
   "source": [
    "There is an 822 MB zip file with 4 different models (50, 100, 200 and 300-dimensional vectors) trained on Wikipedia data with 6 billion tokens and a 400,000 word vocabulary."
   ]
  },
  {
   "cell_type": "markdown",
   "metadata": {},
   "source": [
    "First convert the GloVe file format to the word2vec file format."
   ]
  },
  {
   "cell_type": "code",
   "execution_count": 13,
   "metadata": {},
   "outputs": [
    {
     "data": {
      "text/plain": [
       "(400000, 100)"
      ]
     },
     "execution_count": 13,
     "metadata": {},
     "output_type": "execute_result"
    }
   ],
   "source": [
    "from gensim.scripts.glove2word2vec import glove2word2vec\n",
    "glove_input_file = 'C:/Python Project Files/glove.6B.100d.txt'\n",
    "word2vec_output_file = 'glove.6B.100d.txt.word2vec'\n",
    "glove2word2vec(glove_input_file, word2vec_output_file)"
   ]
  },
  {
   "cell_type": "code",
   "execution_count": 14,
   "metadata": {},
   "outputs": [
    {
     "name": "stdout",
     "output_type": "stream",
     "text": [
      "Wall time: 1min 6s\n"
     ]
    }
   ],
   "source": [
    "# load the Stanford GloVe model\n",
    "from gensim.models import KeyedVectors\n",
    "filename = 'glove.6B.100d.txt.word2vec'\n",
    "%time model = KeyedVectors.load_word2vec_format(filename, binary=False)"
   ]
  },
  {
   "cell_type": "markdown",
   "metadata": {},
   "source": [
    "### Testing the model"
   ]
  },
  {
   "cell_type": "code",
   "execution_count": 15,
   "metadata": {},
   "outputs": [
    {
     "data": {
      "text/plain": [
       "[('queen', 0.7698541283607483)]"
      ]
     },
     "execution_count": 15,
     "metadata": {},
     "output_type": "execute_result"
    }
   ],
   "source": [
    "model.most_similar(positive=['woman', 'king'], negative=['man'], topn=1)"
   ]
  },
  {
   "cell_type": "code",
   "execution_count": 16,
   "metadata": {},
   "outputs": [
    {
     "data": {
      "text/plain": [
       "[('film', 0.9055121541023254),\n",
       " ('movies', 0.895932674407959),\n",
       " ('films', 0.8663552403450012),\n",
       " ('hollywood', 0.8239826560020447),\n",
       " ('comedy', 0.8141382932662964),\n",
       " ('drama', 0.7655293941497803),\n",
       " ('sequel', 0.7644566893577576),\n",
       " ('starring', 0.7473924160003662),\n",
       " ('remake', 0.7330189943313599),\n",
       " ('shows', 0.7167207598686218)]"
      ]
     },
     "execution_count": 16,
     "metadata": {},
     "output_type": "execute_result"
    }
   ],
   "source": [
    "model.most_similar(\"movie\")"
   ]
  },
  {
   "cell_type": "code",
   "execution_count": 17,
   "metadata": {},
   "outputs": [
    {
     "data": {
      "text/plain": [
       "'austria'"
      ]
     },
     "execution_count": 17,
     "metadata": {},
     "output_type": "execute_result"
    }
   ],
   "source": [
    "model.doesnt_match(\"paris berlin london austria\".split())"
   ]
  },
  {
   "cell_type": "code",
   "execution_count": null,
   "metadata": {},
   "outputs": [],
   "source": []
  }
 ],
 "metadata": {
  "kernelspec": {
   "display_name": "Python 3",
   "language": "python",
   "name": "python3"
  },
  "language_info": {
   "codemirror_mode": {
    "name": "ipython",
    "version": 3
   },
   "file_extension": ".py",
   "mimetype": "text/x-python",
   "name": "python",
   "nbconvert_exporter": "python",
   "pygments_lexer": "ipython3",
   "version": "3.5.4"
  }
 },
 "nbformat": 4,
 "nbformat_minor": 2
}
